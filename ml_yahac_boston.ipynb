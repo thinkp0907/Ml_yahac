{
  "nbformat": 4,
  "nbformat_minor": 0,
  "metadata": {
    "colab": {
      "name": "ml_yahac_boston.ipynb",
      "provenance": [],
      "collapsed_sections": []
    },
    "kernelspec": {
      "name": "python3",
      "display_name": "Python 3"
    }
  },
  "cells": [
    {
      "cell_type": "code",
      "metadata": {
        "id": "PA0GVKzEUDnr"
      },
      "source": [
        "# 라이브러리 사용\r\n",
        "import tensorflow as tf\r\n",
        "import pandas as pd"
      ],
      "execution_count": 1,
      "outputs": []
    },
    {
      "cell_type": "code",
      "metadata": {
        "id": "tdGY5JDyUPQB"
      },
      "source": [
        "# 1. 과거의 데이터를 준비\r\n",
        "파일경로 = 'https://raw.githubusercontent.com/blackdew/tensorflow1/master/csv/boston.csv'\r\n",
        "보스턴 = pd.read_csv(파일경로)"
      ],
      "execution_count": 2,
      "outputs": []
    },
    {
      "cell_type": "code",
      "metadata": {
        "colab": {
          "base_uri": "https://localhost:8080/"
        },
        "id": "IcFH91AXUQYe",
        "outputId": "f74e1534-9dd7-43ae-d624-766f0ffc0664"
      },
      "source": [
        "# 독립변수, 종속변수 분리\r\n",
        "독립 = 보스턴[['crim', 'zn', 'indus', 'chas', 'nox', 'rm', 'age', 'dis', 'rad', 'tax','ptratio', 'b', 'lstat']]\r\n",
        "종속 = 보스턴[['medv']]\r\n",
        "\r\n",
        "print(독립.shape, 종속.shape)"
      ],
      "execution_count": 5,
      "outputs": [
        {
          "output_type": "stream",
          "text": [
            "(506, 13) (506, 1)\n"
          ],
          "name": "stdout"
        }
      ]
    },
    {
      "cell_type": "code",
      "metadata": {
        "id": "9CEW-IBgXL-T"
      },
      "source": [
        "# 2. 모델의 구조를 만듭니다\r\n",
        "X = tf.keras.layers.Input(shape=[13])\r\n",
        "Y = tf.keras.layers.Dense(1)(X)\r\n",
        "model = tf.keras.Model(X, Y)\r\n",
        "model.compile(loss='mse')"
      ],
      "execution_count": 7,
      "outputs": []
    },
    {
      "cell_type": "code",
      "metadata": {
        "colab": {
          "base_uri": "https://localhost:8080/"
        },
        "id": "UV_ladGhXeW9",
        "outputId": "946e036f-35c7-40ba-8366-3870a3c7f5c0"
      },
      "source": [
        "# 3. 데이터로 모델을 학습(FIT)합니다.\r\n",
        "model.fit(독립, 종속, epochs=1000, verbose=0)\r\n",
        "model.fit(독립, 종속, epochs=10)\r\n"
      ],
      "execution_count": 14,
      "outputs": [
        {
          "output_type": "stream",
          "text": [
            "Epoch 1/10\n",
            "16/16 [==============================] - 0s 999us/step - loss: 24.5533\n",
            "Epoch 2/10\n",
            "16/16 [==============================] - 0s 1ms/step - loss: 24.2981\n",
            "Epoch 3/10\n",
            "16/16 [==============================] - 0s 1ms/step - loss: 24.5638\n",
            "Epoch 4/10\n",
            "16/16 [==============================] - 0s 1ms/step - loss: 24.3183\n",
            "Epoch 5/10\n",
            "16/16 [==============================] - 0s 1ms/step - loss: 24.6370\n",
            "Epoch 6/10\n",
            "16/16 [==============================] - 0s 1000us/step - loss: 24.1862\n",
            "Epoch 7/10\n",
            "16/16 [==============================] - 0s 1ms/step - loss: 24.3246\n",
            "Epoch 8/10\n",
            "16/16 [==============================] - 0s 1ms/step - loss: 25.2823\n",
            "Epoch 9/10\n",
            "16/16 [==============================] - 0s 1ms/step - loss: 24.5474\n",
            "Epoch 10/10\n",
            "16/16 [==============================] - 0s 1ms/step - loss: 24.7102\n"
          ],
          "name": "stdout"
        },
        {
          "output_type": "execute_result",
          "data": {
            "text/plain": [
              "<tensorflow.python.keras.callbacks.History at 0x7fce38dced30>"
            ]
          },
          "metadata": {
            "tags": []
          },
          "execution_count": 14
        }
      ]
    },
    {
      "cell_type": "code",
      "metadata": {
        "colab": {
          "base_uri": "https://localhost:8080/"
        },
        "id": "oJf7nixTX0Kj",
        "outputId": "ba7de0df-757d-4b9f-ff49-0ad1ac3b20d9"
      },
      "source": [
        "# 4. 모델을 이용하기\r\n",
        "model.predict(독립[0:5])"
      ],
      "execution_count": 16,
      "outputs": [
        {
          "output_type": "execute_result",
          "data": {
            "text/plain": [
              "array([[29.060822],\n",
              "       [23.839405],\n",
              "       [30.38081 ],\n",
              "       [29.26294 ],\n",
              "       [28.839184]], dtype=float32)"
            ]
          },
          "metadata": {
            "tags": []
          },
          "execution_count": 16
        }
      ]
    },
    {
      "cell_type": "code",
      "metadata": {
        "colab": {
          "base_uri": "https://localhost:8080/",
          "height": 204
        },
        "id": "qVBB3uZvYMqR",
        "outputId": "bc4f1b45-3ed5-4cc4-9fc7-d64d7d4cb780"
      },
      "source": [
        "종속[0:5]"
      ],
      "execution_count": 17,
      "outputs": [
        {
          "output_type": "execute_result",
          "data": {
            "text/html": [
              "<div>\n",
              "<style scoped>\n",
              "    .dataframe tbody tr th:only-of-type {\n",
              "        vertical-align: middle;\n",
              "    }\n",
              "\n",
              "    .dataframe tbody tr th {\n",
              "        vertical-align: top;\n",
              "    }\n",
              "\n",
              "    .dataframe thead th {\n",
              "        text-align: right;\n",
              "    }\n",
              "</style>\n",
              "<table border=\"1\" class=\"dataframe\">\n",
              "  <thead>\n",
              "    <tr style=\"text-align: right;\">\n",
              "      <th></th>\n",
              "      <th>medv</th>\n",
              "    </tr>\n",
              "  </thead>\n",
              "  <tbody>\n",
              "    <tr>\n",
              "      <th>0</th>\n",
              "      <td>24.0</td>\n",
              "    </tr>\n",
              "    <tr>\n",
              "      <th>1</th>\n",
              "      <td>21.6</td>\n",
              "    </tr>\n",
              "    <tr>\n",
              "      <th>2</th>\n",
              "      <td>34.7</td>\n",
              "    </tr>\n",
              "    <tr>\n",
              "      <th>3</th>\n",
              "      <td>33.4</td>\n",
              "    </tr>\n",
              "    <tr>\n",
              "      <th>4</th>\n",
              "      <td>36.2</td>\n",
              "    </tr>\n",
              "  </tbody>\n",
              "</table>\n",
              "</div>"
            ],
            "text/plain": [
              "   medv\n",
              "0  24.0\n",
              "1  21.6\n",
              "2  34.7\n",
              "3  33.4\n",
              "4  36.2"
            ]
          },
          "metadata": {
            "tags": []
          },
          "execution_count": 17
        }
      ]
    },
    {
      "cell_type": "code",
      "metadata": {
        "colab": {
          "base_uri": "https://localhost:8080/"
        },
        "id": "H7dMyj6QYfqL",
        "outputId": "12af8e77-47a9-4308-e759-a3415cda0a66"
      },
      "source": [
        "# 모델의 수식 확인\r\n",
        "model.get_weights()"
      ],
      "execution_count": 18,
      "outputs": [
        {
          "output_type": "execute_result",
          "data": {
            "text/plain": [
              "[array([[-0.08886161],\n",
              "        [ 0.05422037],\n",
              "        [-0.0398901 ],\n",
              "        [ 2.8122373 ],\n",
              "        [ 1.6725031 ],\n",
              "        [ 5.203772  ],\n",
              "        [-0.00996608],\n",
              "        [-0.99291635],\n",
              "        [ 0.17660679],\n",
              "        [-0.01151477],\n",
              "        [-0.37571537],\n",
              "        [ 0.01337312],\n",
              "        [-0.47803363]], dtype=float32), array([3.8267965], dtype=float32)]"
            ]
          },
          "metadata": {
            "tags": []
          },
          "execution_count": 18
        }
      ]
    },
    {
      "cell_type": "code",
      "metadata": {
        "id": "fGJCExugYmL5"
      },
      "source": [
        "집값 = -0.08886161 * x1 + 0.05422037 * x2 + -0.0398901 * x3 + 2.8122373 * x4 + 1.6725031 * x5 + 5.203772 * x6 + -0.00996608 * x7 + -0.99291635 * x8 + 0.17660679 * x9 + -0.01151477 * x10 + -0.37571537 * x11 + 0.01337312 * x12 + -0.47803363 * x13"
      ],
      "execution_count": null,
      "outputs": []
    },
    {
      "cell_type": "markdown",
      "metadata": {
        "id": "Wo7o_m2JZKn1"
      },
      "source": [
        "집값 = -0.08886161 * x1 + 0.05422037 * x2 + -0.0398901 * x3 + 2.8122373 * x4 + 1.6725031 * x5 + 5.203772 * x6 + -0.00996608 * x7 + -0.99291635 * x8 + 0.17660679 * x9 + -0.01151477 * x10 + -0.37571537 * x11 + 0.01337312 * x12 + -0.47803363 * x13  "
      ]
    }
  ]
}