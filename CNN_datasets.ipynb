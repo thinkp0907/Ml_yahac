{
  "nbformat": 4,
  "nbformat_minor": 0,
  "metadata": {
    "colab": {
      "name": "CNN_datasets.ipynb",
      "provenance": [],
      "authorship_tag": "ABX9TyOV3TFn35tGcEC837fj4+iZ",
      "include_colab_link": true
    },
    "kernelspec": {
      "name": "python3",
      "display_name": "Python 3"
    }
  },
  "cells": [
    {
      "cell_type": "markdown",
      "metadata": {
        "id": "view-in-github",
        "colab_type": "text"
      },
      "source": [
        "<a href=\"https://colab.research.google.com/github/thinkp0907/Ml_yahac/blob/master/CNN_datasets.ipynb\" target=\"_parent\"><img src=\"https://colab.research.google.com/assets/colab-badge.svg\" alt=\"Open In Colab\"/></a>"
      ]
    },
    {
      "cell_type": "code",
      "metadata": {
        "id": "CJhSs5vYOIkv"
      },
      "source": [
        ""
      ],
      "execution_count": null,
      "outputs": []
    },
    {
      "cell_type": "markdown",
      "metadata": {
        "id": "PyLo2ZZQOKaK"
      },
      "source": [
        "# 샘플 이미지셋 실습\r\n",
        "  - MNIST : 손글씨 이미지셋(60000, 28, 28)\r\n",
        "  - CIFAR10 : 10가지 분류 사물 이미지셋(50000, 32, 32)"
      ]
    },
    {
      "cell_type": "code",
      "metadata": {
        "id": "l7vm5E72Gc_o"
      },
      "source": [
        "import tensorflow as tf"
      ],
      "execution_count": 1,
      "outputs": []
    },
    {
      "cell_type": "code",
      "metadata": {
        "colab": {
          "base_uri": "https://localhost:8080/"
        },
        "id": "nBqH1iWJOcVg",
        "outputId": "cb79917e-0d10-4fcb-9fb8-25f9ddbcb404"
      },
      "source": [
        "(mnist_x, mnist_y), _ = tf.keras.datasets.mnist.load_data()\r\n",
        "print(mnist_x.shape, mnist_y.shape)\r\n",
        "\r\n",
        "(cifar_x, cifar_y), _ = tf.keras.datasets.cifar10.load_data()\r\n",
        "print(cifar_x.shape, cifar_y.shape)"
      ],
      "execution_count": 6,
      "outputs": [
        {
          "output_type": "stream",
          "text": [
            "(60000, 28, 28) (60000,)\n",
            "(50000, 32, 32, 3) (50000, 1)\n"
          ],
          "name": "stdout"
        }
      ]
    },
    {
      "cell_type": "markdown",
      "metadata": {
        "id": "Wvuq0lBgRDcv"
      },
      "source": [
        "# 1. 화면출력"
      ]
    },
    {
      "cell_type": "code",
      "metadata": {
        "colab": {
          "base_uri": "https://localhost:8080/",
          "height": 299
        },
        "id": "ZtFGvofwRL51",
        "outputId": "804584bc-d6c2-4e8b-9235-3976da8a93e1"
      },
      "source": [
        "print(mnist_y[0:10])\r\n",
        "import matplotlib.pyplot as plt\r\n",
        "\r\n",
        "plt.imshow(mnist_x[0], cmap='gray')"
      ],
      "execution_count": 15,
      "outputs": [
        {
          "output_type": "stream",
          "text": [
            "[5 0 4 1 9 2 1 3 1 4]\n"
          ],
          "name": "stdout"
        },
        {
          "output_type": "execute_result",
          "data": {
            "text/plain": [
              "<matplotlib.image.AxesImage at 0x7f37392c8080>"
            ]
          },
          "metadata": {
            "tags": []
          },
          "execution_count": 15
        },
        {
          "output_type": "display_data",
          "data": {
            "image/png": "[encoded data removed]",
            "text/plain": [
              "<Figure size 432x288 with 1 Axes>"
            ]
          },
          "metadata": {
            "tags": [],
            "needs_background": "light"
          }
        }
      ]
    },
    {
      "cell_type": "code",
      "metadata": {
        "colab": {
          "base_uri": "https://localhost:8080/",
          "height": 453
        },
        "id": "9zPVKdAERvt0",
        "outputId": "3a3ee5de-1810-40c9-a2ef-7600c2279cab"
      },
      "source": [
        "print(cifar_y[0:10])\r\n",
        "import matplotlib.pyplot as plt\r\n",
        "\r\n",
        "plt.imshow(cifar_x[9], cmap='gray')"
      ],
      "execution_count": 18,
      "outputs": [
        {
          "output_type": "stream",
          "text": [
            "[[6]\n",
            " [9]\n",
            " [9]\n",
            " [4]\n",
            " [1]\n",
            " [1]\n",
            " [2]\n",
            " [7]\n",
            " [8]\n",
            " [3]]\n"
          ],
          "name": "stdout"
        },
        {
          "output_type": "execute_result",
          "data": {
            "text/plain": [
              "<matplotlib.image.AxesImage at 0x7f373916bd68>"
            ]
          },
          "metadata": {
            "tags": []
          },
          "execution_count": 18
        },
        {
          "output_type": "display_data",
          "data": {
            "image/png": "[encoded data removed]",
            "text/plain": [
              "<Figure size 432x288 with 1 Axes>"
            ]
          },
          "metadata": {
            "tags": [],
            "needs_background": "light"
          }
        }
      ]
    },
    {
      "cell_type": "markdown",
      "metadata": {
        "id": "UyMb6B7IRHOC"
      },
      "source": [
        "# 2. 차원확인"
      ]
    },
    {
      "cell_type": "code",
      "metadata": {
        "colab": {
          "base_uri": "https://localhost:8080/"
        },
        "id": "ollHlWYMOmrI",
        "outputId": "896576cc-0b12-443b-bb36-aa6c7b80f4ca"
      },
      "source": [
        "import numpy as np\r\n",
        "\r\n",
        "d1 = np.array([1,2,3,4,5])\r\n",
        "print(d1.shape)\r\n",
        "\r\n",
        "d2 = np.array([d1,d1,d1,d1])\r\n",
        "print(d2.shape)\r\n",
        "\r\n",
        "d3 = np.array([d2,d2,d2])\r\n",
        "print(d3.shape)\r\n",
        "\r\n",
        "d4 = np.array([d3,d3])\r\n",
        "print(d4.shape)\r\n",
        "\r\n"
      ],
      "execution_count": 22,
      "outputs": [
        {
          "output_type": "stream",
          "text": [
            "(5,)\n",
            "(4, 5)\n",
            "(3, 4, 5)\n",
            "(2, 3, 4, 5)\n"
          ],
          "name": "stdout"
        }
      ]
    },
    {
      "cell_type": "code",
      "metadata": {
        "colab": {
          "base_uri": "https://localhost:8080/"
        },
        "id": "tcVlyAfKSL0M",
        "outputId": "f13f3bee-b0f8-4459-c54f-f490983c47a5"
      },
      "source": [
        "print(mnist_y.shape)\r\n",
        "print(cifar_y.shape)"
      ],
      "execution_count": 24,
      "outputs": [
        {
          "output_type": "stream",
          "text": [
            "(60000,)\n",
            "(50000, 1)\n"
          ],
          "name": "stdout"
        }
      ]
    },
    {
      "cell_type": "code",
      "metadata": {
        "colab": {
          "base_uri": "https://localhost:8080/"
        },
        "id": "VEjc8s-1SchZ",
        "outputId": "41506819-658d-4a5e-a14e-c7f228fa2895"
      },
      "source": [
        "x1 = np.array([1,2,3,4,5])\r\n",
        "print(x1.shape)\r\n",
        "print(mnist_y[:5])\r\n",
        "print(mnist_y[:5].shape)\r\n",
        "\r\n",
        "x2 = np.array([[1,2,3,4,5]])\r\n",
        "print(x2.shape)\r\n",
        "\r\n",
        "x3 = np.array([[1],[2],[3],[4],[5]])\r\n",
        "print(x3.shape)"
      ],
      "execution_count": 32,
      "outputs": [
        {
          "output_type": "stream",
          "text": [
            "(5,)\n",
            "[5 0 4 1 9]\n",
            "(5,)\n",
            "(1, 5)\n",
            "(5, 1)\n"
          ],
          "name": "stdout"
        }
      ]
    },
    {
      "cell_type": "code",
      "metadata": {
        "id": "T6f53wLlSfOz"
      },
      "source": [
        ""
      ],
      "execution_count": null,
      "outputs": []
    }
  ]
}